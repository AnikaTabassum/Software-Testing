{
 "cells": [
  {
   "cell_type": "code",
   "execution_count": 19,
   "metadata": {},
   "outputs": [],
   "source": [
    "import pandas as pd\n",
    "import random"
   ]
  },
  {
   "cell_type": "code",
   "execution_count": 25,
   "metadata": {},
   "outputs": [],
   "source": [
    "def generateValue(combination, rangeList):\n",
    "    valueList = []\n",
    "    for i in range(len(combination)):\n",
    "        valRange = rangeList[i]\n",
    "        if combination[i] == 'nom':\n",
    "            valueList.append('nom '+str(random.randrange(valRange[0], valRange[1]+1)))\n",
    "        elif combination[i] == 'min':\n",
    "            valueList.append('min '+str(valRange[0]))\n",
    "        elif combination[i] == 'max':\n",
    "            valueList.append('max '+str(valRange[1]))\n",
    "        elif combination[i] == 'min+':\n",
    "            valueList.append('min+ '+str(valRange[0]+1))\n",
    "        elif combination[i] == 'max-':\n",
    "            valueList.append('max- '+str(valRange[1]-1))\n",
    "        elif combination[i] == 'min-':\n",
    "            valueList.append('min- '+str(valRange[0]-1))\n",
    "        elif combination[i] == 'max+':\n",
    "            valueList.append('max+ '+str(valRange[1]+1))\n",
    "    return valueList"
   ]
  },
  {
   "cell_type": "code",
   "execution_count": 32,
   "metadata": {},
   "outputs": [],
   "source": [
    "def generateTestTable(rangeList, combinationList):\n",
    "    variableList = []\n",
    "    for i in range(len(rangeList)):\n",
    "        variableList.append('variable'+str(i+1))\n",
    "    generatedTest = pd.DataFrame(columns=['Test Case ID']+variableList)\n",
    "    \n",
    "    for i in range(len(combinationList)):\n",
    "        dfRow = [i+1] + generateValue(combinationList[i], rangeList)\n",
    "        generatedTest.loc[i] = dfRow\n",
    "        \n",
    "    generatedTest.set_index('Test Case ID', inplace=True)\n",
    "    print(generatedTest)"
   ]
  },
  {
   "cell_type": "code",
   "execution_count": 33,
   "metadata": {
    "scrolled": true
   },
   "outputs": [
    {
     "name": "stdout",
     "output_type": "stream",
     "text": [
      "Number of variables?\n",
      "3\n",
      "Input range for variable 1:\n",
      "1 5\n",
      "Input range for variable 2:\n",
      "2 6\n",
      "Input range for variable 3:\n",
      "3 7\n",
      "\n",
      "\n",
      "Select testing method:\n",
      "1. Boundary Value Checking\n",
      "2. Robustness Testing Method\n",
      "3. Worst-Case Testing Method\n",
      "3\n"
     ]
    },
    {
     "ename": "ValueError",
     "evalue": "Must have equal len keys and value when setting with an iterable",
     "output_type": "error",
     "traceback": [
      "\u001b[1;31m---------------------------------------------------------------------------\u001b[0m",
      "\u001b[1;31mValueError\u001b[0m                                Traceback (most recent call last)",
      "\u001b[1;32m<ipython-input-33-9bd325749475>\u001b[0m in \u001b[0;36m<module>\u001b[1;34m()\u001b[0m\n\u001b[0;32m     51\u001b[0m \u001b[1;31m# print(\"combination: \", len(combinationList))\u001b[0m\u001b[1;33m\u001b[0m\u001b[1;33m\u001b[0m\u001b[0m\n\u001b[0;32m     52\u001b[0m \u001b[1;31m# print(combinationList)\u001b[0m\u001b[1;33m\u001b[0m\u001b[1;33m\u001b[0m\u001b[0m\n\u001b[1;32m---> 53\u001b[1;33m \u001b[0mgenerateTestTable\u001b[0m\u001b[1;33m(\u001b[0m\u001b[0mrangeList\u001b[0m\u001b[1;33m,\u001b[0m \u001b[0mcombinationList\u001b[0m\u001b[1;33m)\u001b[0m\u001b[1;33m\u001b[0m\u001b[0m\n\u001b[0m",
      "\u001b[1;32m<ipython-input-32-3b93bf2b5701>\u001b[0m in \u001b[0;36mgenerateTestTable\u001b[1;34m(rangeList, combinationList)\u001b[0m\n\u001b[0;32m      8\u001b[0m     \u001b[1;32mfor\u001b[0m \u001b[0mi\u001b[0m \u001b[1;32min\u001b[0m \u001b[0mrange\u001b[0m\u001b[1;33m(\u001b[0m\u001b[0mlen\u001b[0m\u001b[1;33m(\u001b[0m\u001b[0mcombinationList\u001b[0m\u001b[1;33m)\u001b[0m\u001b[1;33m)\u001b[0m\u001b[1;33m:\u001b[0m\u001b[1;33m\u001b[0m\u001b[0m\n\u001b[0;32m      9\u001b[0m         \u001b[0mdfRow\u001b[0m \u001b[1;33m=\u001b[0m \u001b[1;33m[\u001b[0m\u001b[0mi\u001b[0m\u001b[1;33m+\u001b[0m\u001b[1;36m1\u001b[0m\u001b[1;33m]\u001b[0m \u001b[1;33m+\u001b[0m \u001b[0mgenerateValue\u001b[0m\u001b[1;33m(\u001b[0m\u001b[0mcombinationList\u001b[0m\u001b[1;33m[\u001b[0m\u001b[0mi\u001b[0m\u001b[1;33m]\u001b[0m\u001b[1;33m,\u001b[0m \u001b[0mrangeList\u001b[0m\u001b[1;33m)\u001b[0m\u001b[1;33m\u001b[0m\u001b[0m\n\u001b[1;32m---> 10\u001b[1;33m         \u001b[0mgeneratedTest\u001b[0m\u001b[1;33m.\u001b[0m\u001b[0mloc\u001b[0m\u001b[1;33m[\u001b[0m\u001b[0mi\u001b[0m\u001b[1;33m,\u001b[0m \u001b[1;34m'Test Case ID'\u001b[0m\u001b[1;33m]\u001b[0m \u001b[1;33m=\u001b[0m \u001b[0mdfRow\u001b[0m\u001b[1;33m\u001b[0m\u001b[0m\n\u001b[0m\u001b[0;32m     11\u001b[0m \u001b[1;33m\u001b[0m\u001b[0m\n\u001b[0;32m     12\u001b[0m     \u001b[0mprint\u001b[0m\u001b[1;33m(\u001b[0m\u001b[0mgeneratedTest\u001b[0m\u001b[1;33m)\u001b[0m\u001b[1;33m\u001b[0m\u001b[0m\n",
      "\u001b[1;32m~\\Anaconda3\\lib\\site-packages\\pandas\\core\\indexing.py\u001b[0m in \u001b[0;36m__setitem__\u001b[1;34m(self, key, value)\u001b[0m\n\u001b[0;32m    187\u001b[0m             \u001b[0mkey\u001b[0m \u001b[1;33m=\u001b[0m \u001b[0mcom\u001b[0m\u001b[1;33m.\u001b[0m\u001b[0m_apply_if_callable\u001b[0m\u001b[1;33m(\u001b[0m\u001b[0mkey\u001b[0m\u001b[1;33m,\u001b[0m \u001b[0mself\u001b[0m\u001b[1;33m.\u001b[0m\u001b[0mobj\u001b[0m\u001b[1;33m)\u001b[0m\u001b[1;33m\u001b[0m\u001b[0m\n\u001b[0;32m    188\u001b[0m         \u001b[0mindexer\u001b[0m \u001b[1;33m=\u001b[0m \u001b[0mself\u001b[0m\u001b[1;33m.\u001b[0m\u001b[0m_get_setitem_indexer\u001b[0m\u001b[1;33m(\u001b[0m\u001b[0mkey\u001b[0m\u001b[1;33m)\u001b[0m\u001b[1;33m\u001b[0m\u001b[0m\n\u001b[1;32m--> 189\u001b[1;33m         \u001b[0mself\u001b[0m\u001b[1;33m.\u001b[0m\u001b[0m_setitem_with_indexer\u001b[0m\u001b[1;33m(\u001b[0m\u001b[0mindexer\u001b[0m\u001b[1;33m,\u001b[0m \u001b[0mvalue\u001b[0m\u001b[1;33m)\u001b[0m\u001b[1;33m\u001b[0m\u001b[0m\n\u001b[0m\u001b[0;32m    190\u001b[0m \u001b[1;33m\u001b[0m\u001b[0m\n\u001b[0;32m    191\u001b[0m     \u001b[1;32mdef\u001b[0m \u001b[0m_validate_key\u001b[0m\u001b[1;33m(\u001b[0m\u001b[0mself\u001b[0m\u001b[1;33m,\u001b[0m \u001b[0mkey\u001b[0m\u001b[1;33m,\u001b[0m \u001b[0maxis\u001b[0m\u001b[1;33m)\u001b[0m\u001b[1;33m:\u001b[0m\u001b[1;33m\u001b[0m\u001b[0m\n",
      "\u001b[1;32m~\\Anaconda3\\lib\\site-packages\\pandas\\core\\indexing.py\u001b[0m in \u001b[0;36m_setitem_with_indexer\u001b[1;34m(self, indexer, value)\u001b[0m\n\u001b[0;32m    364\u001b[0m                         new_indexer = convert_from_missing_indexer_tuple(\n\u001b[0;32m    365\u001b[0m                             indexer, self.obj.axes)\n\u001b[1;32m--> 366\u001b[1;33m                         \u001b[0mself\u001b[0m\u001b[1;33m.\u001b[0m\u001b[0m_setitem_with_indexer\u001b[0m\u001b[1;33m(\u001b[0m\u001b[0mnew_indexer\u001b[0m\u001b[1;33m,\u001b[0m \u001b[0mvalue\u001b[0m\u001b[1;33m)\u001b[0m\u001b[1;33m\u001b[0m\u001b[0m\n\u001b[0m\u001b[0;32m    367\u001b[0m \u001b[1;33m\u001b[0m\u001b[0m\n\u001b[0;32m    368\u001b[0m                         \u001b[1;32mreturn\u001b[0m \u001b[0mself\u001b[0m\u001b[1;33m.\u001b[0m\u001b[0mobj\u001b[0m\u001b[1;33m\u001b[0m\u001b[0m\n",
      "\u001b[1;32m~\\Anaconda3\\lib\\site-packages\\pandas\\core\\indexing.py\u001b[0m in \u001b[0;36m_setitem_with_indexer\u001b[1;34m(self, indexer, value)\u001b[0m\n\u001b[0;32m    604\u001b[0m \u001b[1;33m\u001b[0m\u001b[0m\n\u001b[0;32m    605\u001b[0m                     \u001b[1;32mif\u001b[0m \u001b[0mlen\u001b[0m\u001b[1;33m(\u001b[0m\u001b[0mlabels\u001b[0m\u001b[1;33m)\u001b[0m \u001b[1;33m!=\u001b[0m \u001b[0mlen\u001b[0m\u001b[1;33m(\u001b[0m\u001b[0mvalue\u001b[0m\u001b[1;33m)\u001b[0m\u001b[1;33m:\u001b[0m\u001b[1;33m\u001b[0m\u001b[0m\n\u001b[1;32m--> 606\u001b[1;33m                         raise ValueError('Must have equal len keys and value '\n\u001b[0m\u001b[0;32m    607\u001b[0m                                          'when setting with an iterable')\n\u001b[0;32m    608\u001b[0m \u001b[1;33m\u001b[0m\u001b[0m\n",
      "\u001b[1;31mValueError\u001b[0m: Must have equal len keys and value when setting with an iterable"
     ]
    }
   ],
   "source": [
    "variationList = ['nom', 'min', 'min+', 'max', 'max-', 'min-', 'max+']\n",
    "rangeList = []\n",
    "\n",
    "varCount = int(input('Number of variables?\\n'))\n",
    "combinationList = [['nom']*varCount]\n",
    "\n",
    "for i in range(varCount):\n",
    "    print('Input range for variable '+str(i+1)+\":\")\n",
    "    start, end = (input().split())\n",
    "    start, end = int(start), int(end)\n",
    "    rangeList.append([start, end])\n",
    "    \n",
    "print('\\n')\n",
    "\n",
    "testingMethod = int(input(\n",
    "        \"Select testing method:\\n\"+\n",
    "        \"1. Boundary Value Checking\\n\"+\n",
    "        \"2. Robustness Testing Method\\n\"+\n",
    "        \"3. Worst-Case Testing Method\\n\"\n",
    "     ))\n",
    "\n",
    "if testingMethod == 1:\n",
    "    for i in range(varCount):\n",
    "        for variation in variationList[1:5]:\n",
    "            tempCombination = combinationList[0].copy()\n",
    "            tempCombination[i] = variation\n",
    "            combinationList.append(tempCombination)\n",
    "        \n",
    "        \n",
    "elif testingMethod == 2:\n",
    "    for i in range(varCount):\n",
    "        for variation in variationList[1:]:\n",
    "            tempCombination = combinationList[0].copy()\n",
    "            tempCombination[i] = variation\n",
    "            combinationList.append(tempCombination)\n",
    "else:\n",
    "    while(True):\n",
    "        n=0\n",
    "        for combination in combinationList:\n",
    "            for variation in variationList[0:5]:\n",
    "                for i in range(varCount):\n",
    "                    tempCombination = combination.copy()\n",
    "                    tempCombination[i] = variation\n",
    "                    \n",
    "                    if tempCombination not in combinationList:\n",
    "                        combinationList.append(tempCombination)\n",
    "                        n += 1\n",
    "        if n==0:\n",
    "            break\n",
    "            \n",
    "# print(\"combination: \", len(combinationList))\n",
    "# print(combinationList)\n",
    "generateTestTable(rangeList, combinationList)\n"
   ]
  },
  {
   "cell_type": "code",
   "execution_count": null,
   "metadata": {},
   "outputs": [],
   "source": []
  }
 ],
 "metadata": {
  "kernelspec": {
   "display_name": "Python 3",
   "language": "python",
   "name": "python3"
  },
  "language_info": {
   "codemirror_mode": {
    "name": "ipython",
    "version": 3
   },
   "file_extension": ".py",
   "mimetype": "text/x-python",
   "name": "python",
   "nbconvert_exporter": "python",
   "pygments_lexer": "ipython3",
   "version": "3.6.5"
  }
 },
 "nbformat": 4,
 "nbformat_minor": 2
}
